{
 "cells": [
  {
   "cell_type": "markdown",
   "id": "97241966-563a-4058-94dc-9d011b58bf83",
   "metadata": {},
   "source": [
    "# Арифметические операции"
   ]
  },
  {
   "cell_type": "code",
   "execution_count": null,
   "id": "11eb7e72-826d-4efc-9859-a9922e63c14b",
   "metadata": {},
   "outputs": [],
   "source": [
    "%matplotlib inline"
   ]
  },
  {
   "cell_type": "code",
   "execution_count": null,
   "id": "1c9bacc5-b4f1-4bc7-a7d2-77328bbda29a",
   "metadata": {},
   "outputs": [],
   "source": [
    "from skimage.io import imread, imshow, imsave"
   ]
  },
  {
   "cell_type": "code",
   "execution_count": null,
   "id": "1c542d4f-f66d-4d4a-b9dd-2b61fd8f88ff",
   "metadata": {},
   "outputs": [],
   "source": [
    "img = imread('tiger-color-notebooks.png')\n",
    "imshow(img)"
   ]
  },
  {
   "cell_type": "markdown",
   "id": "b5e89b06-0c2b-431f-aef3-b88f37373640",
   "metadata": {},
   "source": [
    "Тип переменной img"
   ]
  },
  {
   "cell_type": "code",
   "execution_count": null,
   "id": "39a6b910-33d4-4b42-86ea-a68e53ecca48",
   "metadata": {},
   "outputs": [],
   "source": [
    "img.dtype"
   ]
  },
  {
   "cell_type": "markdown",
   "id": "3320808d-9d40-4ad4-ad8f-928ef10f2515",
   "metadata": {},
   "source": [
    "Это значит, что используемы числа - 8-битные (т.е. от 0 до 255) и\n",
    "при арифметических операциях может возникнуть переполнение."
   ]
  },
  {
   "cell_type": "code",
   "execution_count": null,
   "id": "527bfc07-102d-4441-a450-419fda3ea998",
   "metadata": {},
   "outputs": [],
   "source": [
    "imshow(img + 1)"
   ]
  },
  {
   "cell_type": "markdown",
   "id": "9421881d-5a22-4769-ad1f-d3f8fb2b1ce8",
   "metadata": {},
   "source": [
    "А если бы переполнения не было, то получилось бы вот так:"
   ]
  },
  {
   "cell_type": "code",
   "execution_count": null,
   "id": "a9b3833a-ada8-433d-8fa8-49138e3bc58f",
   "metadata": {},
   "outputs": [],
   "source": [
    "img_c = img.copy()\n",
    "for i in range(img_c.shape[0]):\n",
    "    for j in range(img_c.shape[1]):\n",
    "        for k in range(3):\n",
    "            if img_c[i][j][k] < 255:\n",
    "                img_c[i][j][k] += 1"
   ]
  },
  {
   "cell_type": "code",
   "execution_count": null,
   "id": "2b1e044a-974a-401d-855a-f116200a9e06",
   "metadata": {},
   "outputs": [],
   "source": [
    "imshow(img_c)"
   ]
  },
  {
   "cell_type": "markdown",
   "id": "d33af2cc-2468-413f-940c-eb95f8e5a5f5",
   "metadata": {},
   "source": [
    "Чтобы не прибегать к таким ухищрениям и при этом избежать переполнения,, воспользуемся преобразованием в float."
   ]
  },
  {
   "cell_type": "code",
   "execution_count": null,
   "id": "08a45b8e-b312-45d7-81cf-d052bae56bde",
   "metadata": {},
   "outputs": [],
   "source": [
    "from skimage import img_as_float"
   ]
  },
  {
   "cell_type": "code",
   "execution_count": null,
   "id": "c6e410ad-2b1d-49eb-8581-f6b7845a5009",
   "metadata": {},
   "outputs": [],
   "source": [
    "img_f = img_as_float(img)\n",
    "imshow(img_f)"
   ]
  },
  {
   "cell_type": "markdown",
   "id": "7b8458ec-5044-4462-9169-d46458d6c37e",
   "metadata": {},
   "source": [
    "Посмотрим на диапазоны принимаемых значений для img и img_f."
   ]
  },
  {
   "cell_type": "code",
   "execution_count": null,
   "id": "fd9acb10-8b75-4b98-96f6-6b1e3cb24132",
   "metadata": {},
   "outputs": [],
   "source": [
    "print('Диапазон значений img:  ', img.min(), '-', img.max())\n",
    "print('Диапазон значений img_f:', img_f.min(), '-', img_f.max())"
   ]
  },
  {
   "cell_type": "markdown",
   "id": "51e1eac1-4260-4605-bbd8-5bc430de01b4",
   "metadata": {},
   "source": [
    "Вещественный диапазон оказался не 0-255, а 0-1.  \n",
    "Попробуем преобразованную в float картинку разделить на 1.5."
   ]
  },
  {
   "cell_type": "code",
   "execution_count": null,
   "id": "47579293-a825-4ece-a33c-3e7fba4cd533",
   "metadata": {},
   "outputs": [],
   "source": [
    "imshow(img_f / 1.5)"
   ]
  },
  {
   "cell_type": "markdown",
   "id": "d76675f7-dbaa-46f7-8e69-4127c2c2d91f",
   "metadata": {},
   "source": [
    "Изображение стало более темное и менее контрастное.  \n",
    "А что было бы, если бы мы то же самое сделали с непреобразованным изображением?"
   ]
  },
  {
   "cell_type": "code",
   "execution_count": null,
   "id": "e03b322b-12b5-4696-a986-351055b378fc",
   "metadata": {},
   "outputs": [],
   "source": [
    "imshow(img / 1.5)"
   ]
  },
  {
   "cell_type": "markdown",
   "id": "c31e7604-4c01-4c30-8765-2fc78e485650",
   "metadata": {},
   "source": [
    "Полная ерунда."
   ]
  },
  {
   "cell_type": "code",
   "execution_count": null,
   "id": "8f3df701-b667-4482-8193-784e2521a728",
   "metadata": {},
   "outputs": [],
   "source": [
    "imshow(img_f / 4)"
   ]
  },
  {
   "cell_type": "code",
   "execution_count": null,
   "id": "c6abd6b1-af94-4e45-b614-cc7d3e369e14",
   "metadata": {},
   "outputs": [],
   "source": [
    "imshow(img_f / 4 + 0.25)"
   ]
  },
  {
   "cell_type": "markdown",
   "id": "120aaf0a-d137-411e-813f-54bc32aab588",
   "metadata": {},
   "source": [
    "Нам нужно, чтобы все числа в img_f были всегда в диапазоне [0, 1].\n",
    "Для этого будем всегда обрезать их функцией clip из numpy."
   ]
  },
  {
   "cell_type": "code",
   "execution_count": null,
   "id": "fbb8ab1d-11aa-4b57-a891-e4479d867f61",
   "metadata": {},
   "outputs": [],
   "source": [
    "from numpy import clip"
   ]
  },
  {
   "cell_type": "code",
   "execution_count": null,
   "id": "64833365-b5d0-44ed-b1fb-6ff4077013ab",
   "metadata": {},
   "outputs": [],
   "source": [
    "imshow(clip(img_f * 1.5, 0, 1))"
   ]
  },
  {
   "cell_type": "markdown",
   "id": "2d20334c-cc90-4a86-a4cb-623ed188b5a8",
   "metadata": {},
   "source": [
    "Увеличились контрастность и яркость."
   ]
  },
  {
   "cell_type": "code",
   "execution_count": null,
   "id": "83949aa4-833d-4412-9077-bb2563a97175",
   "metadata": {},
   "outputs": [],
   "source": [
    "imshow(clip(img_f * 2, 0, 1))"
   ]
  },
  {
   "cell_type": "code",
   "execution_count": null,
   "id": "350da3b9-72ab-4ed4-834f-d3621d6fdd8c",
   "metadata": {},
   "outputs": [],
   "source": [
    "imshow(clip(img_f * 2 - 0.5, 0, 1))"
   ]
  }
 ],
 "metadata": {
  "kernelspec": {
   "display_name": "Python 3 (ipykernel)",
   "language": "python",
   "name": "python3"
  },
  "language_info": {
   "codemirror_mode": {
    "name": "ipython",
    "version": 3
   },
   "file_extension": ".py",
   "mimetype": "text/x-python",
   "name": "python",
   "nbconvert_exporter": "python",
   "pygments_lexer": "ipython3"
  }
 },
 "nbformat": 4,
 "nbformat_minor": 5
}
