{
 "cells": [
  {
   "cell_type": "markdown",
   "id": "fe200b87-c6c6-4b91-8258-63573b155d99",
   "metadata": {},
   "source": [
    "# Повышение контрастности черно-белых изображений"
   ]
  },
  {
   "cell_type": "code",
   "execution_count": null,
   "id": "b1d0aa66-eaeb-4356-8fc6-74c4c5f0218d",
   "metadata": {},
   "outputs": [],
   "source": [
    "%matplotlib inline\n",
    "import numpy as np\n",
    "from skimage.io import imread, imshow, imsave\n",
    "from matplotlib.pyplot import hist"
   ]
  },
  {
   "cell_type": "code",
   "execution_count": null,
   "id": "23613367-189d-42ab-b82e-f85388395261",
   "metadata": {},
   "outputs": [],
   "source": [
    "img = imread(\"tiger-low-contrast.png\")\n",
    "imshow(img)"
   ]
  },
  {
   "cell_type": "markdown",
   "id": "74cc3b49-8c04-4c33-8a32-6cb2326980f3",
   "metadata": {},
   "source": [
    "Посмотрим на гистограмму"
   ]
  },
  {
   "cell_type": "code",
   "execution_count": null,
   "id": "17572851-b175-4359-b236-6c3e8069c6cf",
   "metadata": {},
   "outputs": [],
   "source": [
    "values, bin_edges, patches = hist(img.ravel(), bins=range(257))"
   ]
  },
  {
   "cell_type": "markdown",
   "id": "66158eed-e6ed-4dde-9717-c0be3ee9fe09",
   "metadata": {},
   "source": [
    "Расширяем пиксели на весь диапазон по формуле:\n",
    "\n",
    "$$ f(x)=(x-x_{min})\\cdot\\frac{255}{(x_{max}-x_{min})}$$"
   ]
  },
  {
   "cell_type": "code",
   "execution_count": null,
   "id": "9188fd89-f762-4207-bf8b-07b5dfd12075",
   "metadata": {},
   "outputs": [],
   "source": [
    "x_min = img.min()\n",
    "x_max = img.max()\n",
    "diff = 255/(x_max - x_min)\n",
    "print(x_min, x_max, diff)"
   ]
  },
  {
   "cell_type": "markdown",
   "id": "795ef69d-548f-43cf-acd7-6046f37d6128",
   "metadata": {},
   "source": [
    "Сдвигаем гистограмму к началу координат $f(x)=(x-x_{min})$"
   ]
  },
  {
   "cell_type": "code",
   "execution_count": null,
   "id": "b5a061e4-e91a-44d9-be95-9bd4176bfe79",
   "metadata": {},
   "outputs": [],
   "source": [
    "new_img = (img - x_min)\n",
    "values, bin_edges, patches = hist(new_img.ravel(), bins=range(257))"
   ]
  },
  {
   "cell_type": "markdown",
   "id": "69812f28-8654-4856-b6c0-f8dfe8524618",
   "metadata": {},
   "source": [
    "Умножаем значение пикселя на $$f(x)=x\\cdot\\frac{255}{x_{max}-x_{min}}$$"
   ]
  },
  {
   "cell_type": "code",
   "execution_count": null,
   "id": "7617bd46-5af1-4fd4-b100-9267f9044212",
   "metadata": {},
   "outputs": [],
   "source": [
    "new_img = new_img*diff\n",
    "\n",
    "values, bin_edges, patches = hist(new_img.ravel(), bins=range(257))"
   ]
  },
  {
   "cell_type": "markdown",
   "id": "7e807c64-ac31-4dba-aef6-62f03f0f8d3e",
   "metadata": {},
   "source": [
    "Смотрим на изображение"
   ]
  },
  {
   "cell_type": "code",
   "execution_count": null,
   "id": "7c2832fc-40d0-4648-9391-d1e41c5fbfe9",
   "metadata": {},
   "outputs": [],
   "source": [
    "new_img = new_img.astype('uint8')\n",
    "imshow(new_img)"
   ]
  },
  {
   "cell_type": "markdown",
   "id": "5dc3e2bc-8036-4de1-a358-578a6b000b54",
   "metadata": {},
   "source": [
    "Загружаем эталон"
   ]
  },
  {
   "cell_type": "code",
   "execution_count": null,
   "id": "c7389817-1d1c-4c24-b242-f203029b12ce",
   "metadata": {},
   "outputs": [],
   "source": [
    "img_tiger = imread(\"tiger-high-contrast.png\")\n",
    "imshow(img_tiger)"
   ]
  },
  {
   "cell_type": "markdown",
   "id": "0352d00b-384a-4780-8a29-7bdf9c93c5af",
   "metadata": {},
   "source": [
    "Сравниваем получившееся изображение с эталоном"
   ]
  },
  {
   "cell_type": "code",
   "execution_count": null,
   "id": "550d4c5e-e11a-4673-b573-3f8c33815461",
   "metadata": {},
   "outputs": [],
   "source": [
    "np.array_equal(new_img, img_tiger)"
   ]
  }
 ],
 "metadata": {
  "kernelspec": {
   "display_name": "Python 3 (ipykernel)",
   "language": "python",
   "name": "python3"
  },
  "language_info": {
   "codemirror_mode": {
    "name": "ipython",
    "version": 3
   },
   "file_extension": ".py",
   "mimetype": "text/x-python",
   "name": "python",
   "nbconvert_exporter": "python",
   "pygments_lexer": "ipython3"
  }
 },
 "nbformat": 4,
 "nbformat_minor": 5
}
