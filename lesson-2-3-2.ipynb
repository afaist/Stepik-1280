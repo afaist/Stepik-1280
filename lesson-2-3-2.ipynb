{
 "cells": [
  {
   "cell_type": "code",
   "execution_count": 1,
   "id": "d199048d-21d3-4110-8d1c-77dae02f3a60",
   "metadata": {},
   "outputs": [],
   "source": [
    "%matplotlib inline\n",
    "from skimage.io import imread, imsave, imshow\n",
    "from skimage import img_as_float, img_as_ubyte\n",
    "from numpy import clip, dstack, roll\n",
    "import glob, os"
   ]
  },
  {
   "cell_type": "code",
   "execution_count": 2,
   "id": "4fe89e2f-3c09-47be-be31-f6184ad81038",
   "metadata": {},
   "outputs": [],
   "source": [
    "def pause():\n",
    "    programPause = input(\"Press the <ENTER> key to continue...\")"
   ]
  },
  {
   "cell_type": "code",
   "execution_count": 3,
   "id": "c26794dc-6d74-4de6-b39c-bf8a6f60f634",
   "metadata": {},
   "outputs": [],
   "source": [
    "def rgb_image(image):\n",
    "    img = imread(image)\n",
    "    img = img_as_float(img)\n",
    "    height = img.shape[0]//3\n",
    "    # Slides\n",
    "    blue = img[:height, :].copy()\n",
    "    green = img[height:height*2,:].copy()\n",
    "    red = img[height*2:height*3,:].copy()\n",
    "    # Border\n",
    "    border_width = int(img.shape[1]*0.15)\n",
    "    border_height = int(height*0.15)\n",
    "    # Cut\n",
    "    blue = blue[border_height:-1-border_height, border_width:-1-border_width]\n",
    "    green = green[border_height:-1-border_height, border_width:-1-border_width]\n",
    "    red = red[border_height:-1-border_height, border_width:-1-border_width]\n",
    "\n",
    "    best_red_correlation = -1 \n",
    "    best_blue_correlation = -1\n",
    "    bdy = bdx=rdy=rdx=0\n",
    "    for dy in range(-15, 16):\n",
    "        for dx in range(-15, 16):\n",
    "            db = roll(blue, dy, axis=0)\n",
    "            db = roll(db, dx, axis=1)\n",
    "            blue_correlation = (db * green).sum()\n",
    "            if best_blue_correlation < blue_correlation:\n",
    "                best_blue_correlation = blue_correlation\n",
    "                bdy = dy\n",
    "                bdx = dx\n",
    "            dr = roll(red, dy, axis=0)\n",
    "            dr = roll(dr, dx, axis=1)\n",
    "            red_correlation = (dr * green).sum()\n",
    "            if best_red_correlation < red_correlation:\n",
    "                best_red_correlation = red_correlation\n",
    "                rdy = dy\n",
    "                rdx = dx\n",
    "    \n",
    "    blue = roll(blue, bdy, axis=0)\n",
    "    blue = roll(blue, bdx, axis=1)\n",
    "    red = roll(red, rdy, axis=0)\n",
    "    red = roll(red, rdx, axis=1)\n",
    "    new_img = dstack((red,green,blue))\n",
    "    imsave(\"color/\"+image, img_as_ubyte(new_img))\n",
    "    imshow(new_img)"
   ]
  },
  {
   "cell_type": "code",
   "execution_count": null,
   "id": "d887a19f-98fa-433c-a260-a443d2989b84",
   "metadata": {},
   "outputs": [],
   "source": [
    "os.chdir(\"img\")\n",
    "for file in glob.glob(\"*.png\"):\n",
    "    rgb_image(file)\n",
    "#    pause()\n",
    "    \n",
    "os.chdir(\"..\")"
   ]
  }
 ],
 "metadata": {
  "kernelspec": {
   "display_name": "Python 3 (ipykernel)",
   "language": "python",
   "name": "python3"
  },
  "language_info": {
   "codemirror_mode": {
    "name": "ipython",
    "version": 3
   },
   "file_extension": ".py",
   "mimetype": "text/x-python",
   "name": "python",
   "nbconvert_exporter": "python",
   "pygments_lexer": "ipython3",
   "version": "3.12.0"
  }
 },
 "nbformat": 4,
 "nbformat_minor": 5
}
