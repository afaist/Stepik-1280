{
 "cells": [
  {
   "cell_type": "markdown",
   "id": "e768ed46-a126-4e6a-b652-7cc428612759",
   "metadata": {},
   "source": [
    "# Работа с прямоугольными частями изображения. В этом видео мы научимся загружать, просматривать и сохранять изображения, а также научимся работать с отдельными пикселями изображения."
   ]
  },
  {
   "cell_type": "code",
   "execution_count": null,
   "id": "0964c0fb-389c-49b0-b8e3-a3371abe6f02",
   "metadata": {},
   "outputs": [],
   "source": [
    "%matplotlib inline"
   ]
  },
  {
   "cell_type": "code",
   "execution_count": null,
   "id": "86c9ce05-6aff-4255-8f1c-e8dcd63a8f34",
   "metadata": {},
   "outputs": [],
   "source": [
    "from skimage.io import imread, imshow, imsave"
   ]
  },
  {
   "cell_type": "code",
   "execution_count": null,
   "id": "e4792482-7121-4684-bd2e-68aecb09e75b",
   "metadata": {},
   "outputs": [],
   "source": [
    "img = imread(\"tiger-color.png\")"
   ]
  },
  {
   "cell_type": "code",
   "execution_count": null,
   "id": "1365fe09-cbf2-4a6f-b464-daab85101491",
   "metadata": {},
   "outputs": [],
   "source": [
    "imshow(img)"
   ]
  },
  {
   "cell_type": "markdown",
   "id": "bef2c2dc-88ef-4b2c-b24c-369863ba639a",
   "metadata": {},
   "source": [
    "Будем работать с прямоугольной областью, содержащей нос тигра"
   ]
  },
  {
   "cell_type": "code",
   "execution_count": null,
   "id": "2dfbeed9-2d93-441f-aec9-257b65e82f51",
   "metadata": {},
   "outputs": [],
   "source": [
    "nose = img[370:410, 350:440]"
   ]
  },
  {
   "cell_type": "code",
   "execution_count": null,
   "id": "32b09c27-0359-4972-8a48-ae1a18ba98ca",
   "metadata": {},
   "outputs": [],
   "source": [
    "imshow(nose)"
   ]
  },
  {
   "cell_type": "markdown",
   "id": "99953e69-c4e4-4047-8139-9562a34b83dc",
   "metadata": {},
   "source": [
    "Покрасим нос в малиновый цвет"
   ]
  },
  {
   "cell_type": "code",
   "execution_count": null,
   "id": "e4e99cbf-e89e-43df-8515-28b1e4aaeb53",
   "metadata": {},
   "outputs": [],
   "source": [
    "img[370:410, 350:440] = [255,0,255]\n",
    "imshow(img)"
   ]
  },
  {
   "cell_type": "markdown",
   "id": "5c2d6d9a-4343-4ac3-a57f-5aa8caad6a41",
   "metadata": {},
   "source": [
    "Вспомним тигра с жёлтой точкой на носу"
   ]
  },
  {
   "cell_type": "code",
   "execution_count": null,
   "id": "9c102e9c-9f1f-4156-aa7e-d4d4a2deaa23",
   "metadata": {},
   "outputs": [],
   "source": [
    "img_yellow = imread('tiger-yellow-nose.png')\n",
    "imshow(img_yellow[370:410, 350:440])"
   ]
  }
 ],
 "metadata": {
  "kernelspec": {
   "display_name": "Python 3 (ipykernel)",
   "language": "python",
   "name": "python3"
  },
  "language_info": {
   "codemirror_mode": {
    "name": "ipython",
    "version": 3
   },
   "file_extension": ".py",
   "mimetype": "text/x-python",
   "name": "python",
   "nbconvert_exporter": "python",
   "pygments_lexer": "ipython3"
  }
 },
 "nbformat": 4,
 "nbformat_minor": 5
}
