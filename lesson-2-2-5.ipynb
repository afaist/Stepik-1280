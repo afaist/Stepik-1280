{
 "cells": [
  {
   "cell_type": "markdown",
   "id": "cfd4a687-b95f-4a9b-882f-538167e23ec3",
   "metadata": {},
   "source": [
    "# Вычисление яркости изображения"
   ]
  },
  {
   "cell_type": "markdown",
   "id": "6b0b3ead-dd06-4d8f-871f-046b212ffc77",
   "metadata": {},
   "source": [
    "Поговорим о том, как по цветному изображению получить чёрно-белое, т.е. вычислить яркость изображения."
   ]
  },
  {
   "cell_type": "code",
   "execution_count": null,
   "id": "c559a75b-eaf4-483a-896d-fe8fe0240f7c",
   "metadata": {},
   "outputs": [],
   "source": [
    "%matplotlib inline"
   ]
  },
  {
   "cell_type": "code",
   "execution_count": null,
   "id": "922dd283-935d-4583-aa53-015c4be6f3ed",
   "metadata": {},
   "outputs": [],
   "source": [
    "from skimage.io import imread, imshow, imsave"
   ]
  },
  {
   "cell_type": "code",
   "execution_count": null,
   "id": "ca7464bd-07f2-4c50-a14e-83b50328587e",
   "metadata": {},
   "outputs": [],
   "source": [
    "img = imread('leaf.png')\n",
    "imshow(img)"
   ]
  },
  {
   "cell_type": "markdown",
   "id": "cafd3e7d-b5d0-4e6a-a4d9-1854d51ab341",
   "metadata": {},
   "source": [
    "Самый простой способ получить из этого изображения чёрно-белое - это просто взять и усреднить компоненты R, G и B."
   ]
  },
  {
   "cell_type": "code",
   "execution_count": null,
   "id": "b21241df-463c-44d0-94cc-96c872aa8cc6",
   "metadata": {},
   "outputs": [],
   "source": [
    "from skimage import img_as_float"
   ]
  },
  {
   "cell_type": "code",
   "execution_count": null,
   "id": "25dc07cc-c522-47ed-91f0-ff13a72db1af",
   "metadata": {},
   "outputs": [],
   "source": [
    "img_f = img_as_float(img)\n",
    "r = img_f[:,:,0]\n",
    "g = img_f[:,:,1]\n",
    "b = img_f[:,:,2]\n",
    "imshow((r+g+b)/3)"
   ]
  },
  {
   "cell_type": "markdown",
   "id": "2494f635-9f22-4a4a-850a-d0b126bc68a0",
   "metadata": {},
   "source": [
    "Но это изображение не соответствует человеческому восприятию: мы видим, что этот лист гораздо светлее.\n",
    "Цвет - это наше субъективное восприятие электромагнитных волн.\n",
    "Электромагнитные волны характеризуются длиной волны - величиной лямбда - которая измеряется в нанометрах. Видимый нами свет - это свет, который имеет длину волны примерно от 400 до 700 нанометров.\n",
    "На этом графике схематично изображен цвет, который соответствует различным длинам волн. Можно заметить, что левой части графика соответствуют цвета, в которых превалирует синяя компонента, средней части графика соответствуют цвета, в которых превалирует зелёная компонента, а правой части графика соответствуют цвета, в которых превалирует красная компонента.\n",
    "А по оси y здесь отложена относительная яркость, воспринимаемая нашими глазами. По графику видно, что зелёная компонента вносит наибольший вклад в восприятие яркости глазами, затем идёт красная компонента и, наконец, синяя.\n",
    "Попробуем выразить это формулой."
   ]
  },
  {
   "cell_type": "code",
   "execution_count": null,
   "id": "907681dc-679b-4d16-b19c-693559232dfd",
   "metadata": {},
   "outputs": [],
   "source": [
    "our_img_gray = 0.2126 * r + 0.7152 * g + 0.0722 * b\n",
    "imshow(our_img_gray)"
   ]
  },
  {
   "cell_type": "markdown",
   "id": "3cbfe7a5-8fcc-4ee1-ad0f-7a76ddf5b5e0",
   "metadata": {},
   "source": [
    "В Python можно воспользоваться функцией rgb2gray()."
   ]
  },
  {
   "cell_type": "code",
   "execution_count": null,
   "id": "16af9aa2-6f7a-4dee-af09-564c7d3a3c95",
   "metadata": {},
   "outputs": [],
   "source": [
    "from skimage.color import rgb2gray"
   ]
  },
  {
   "cell_type": "code",
   "execution_count": null,
   "id": "5aee2c36-12e8-4385-8868-0955f8d5f5d8",
   "metadata": {},
   "outputs": [],
   "source": [
    "img_f.shape"
   ]
  },
  {
   "cell_type": "markdown",
   "id": "a74db601-2406-4077-bd4f-c773ff355d69",
   "metadata": {},
   "source": [
    "Уберем алфа канал"
   ]
  },
  {
   "cell_type": "code",
   "execution_count": null,
   "id": "49150888-6f04-4ad3-b13e-75aaf4ca3486",
   "metadata": {},
   "outputs": [],
   "source": [
    "image_without_alpha = img_f[:,:,:3]\n",
    "image_without_alpha.shape"
   ]
  },
  {
   "cell_type": "code",
   "execution_count": null,
   "id": "b36ca116-97ae-4b5e-8f05-4c0fd2d6941d",
   "metadata": {},
   "outputs": [],
   "source": [
    "img_gray = rgb2gray(image_without_alpha)\n",
    "imshow(img_gray)"
   ]
  },
  {
   "cell_type": "code",
   "execution_count": null,
   "id": "605b25e6-8b65-49b2-91e0-743afe76ec35",
   "metadata": {},
   "outputs": [],
   "source": [
    "import numpy as np\n",
    "np.array_equal(our_img_gray, img_gray)"
   ]
  },
  {
   "cell_type": "markdown",
   "id": "cdbc2a4e-6e2d-437f-be3c-1e82a3d07cf8",
   "metadata": {},
   "source": [
    "False\n",
    "```\n",
    "# Получилось несколько иное. \n",
    "# В документации rgb2gray написано вот что:\n",
    "#\n",
    "# Notes\n",
    "# -----\n",
    "# The weights used in this conversion are calibrated for contemporary\n",
    "# CRT phosphors::\n",
    "#     Y = 0.2125 R + 0.7154 G + 0.0721 B\n",
    "#\n",
    "# А мы вычисляли по другой формуле:\n",
    "#    Y = 0.2126 R + 0.7152 G + 0.0722 B"
   ]
  }
 ],
 "metadata": {
  "kernelspec": {
   "display_name": "Python 3 (ipykernel)",
   "language": "python",
   "name": "python3"
  },
  "language_info": {
   "codemirror_mode": {
    "name": "ipython",
    "version": 3
   },
   "file_extension": ".py",
   "mimetype": "text/x-python",
   "name": "python",
   "nbconvert_exporter": "python",
   "pygments_lexer": "ipython3"
  }
 },
 "nbformat": 4,
 "nbformat_minor": 5
}
