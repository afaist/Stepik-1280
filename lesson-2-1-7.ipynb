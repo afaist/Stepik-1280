{
 "cells": [
  {
   "cell_type": "code",
   "execution_count": null,
   "id": "3b6b7302-4f0e-4fa7-a64a-ebcd92e8e737",
   "metadata": {},
   "outputs": [],
   "source": [
    "%matplotlib inline"
   ]
  },
  {
   "cell_type": "code",
   "execution_count": null,
   "id": "06578b9c-415a-4669-8851-a7dcbaa176b9",
   "metadata": {},
   "outputs": [],
   "source": [
    "from skimage.io import imread, imsave, imshow"
   ]
  },
  {
   "cell_type": "code",
   "execution_count": null,
   "id": "ff257dc5-4c49-41d9-8fc0-cf5f612fe46d",
   "metadata": {},
   "outputs": [],
   "source": [
    "img = imread(\"img.png\")\n",
    "imshow(img)"
   ]
  },
  {
   "cell_type": "code",
   "execution_count": null,
   "id": "b29c4413-10b1-437a-8389-c57755a3920c",
   "metadata": {},
   "outputs": [],
   "source": [
    "height, width = img.shape[:2]\n",
    "print(height, width)"
   ]
  },
  {
   "cell_type": "code",
   "execution_count": null,
   "id": "70c3fd31-e8d4-48b6-a313-ede860b8d631",
   "metadata": {},
   "outputs": [],
   "source": [
    "top = (height - 7) // 2\n",
    "left = (width - 15) // 2\n",
    "print(top, left)"
   ]
  },
  {
   "cell_type": "code",
   "execution_count": null,
   "id": "5d3b295d-6fef-4a46-a2d2-1505aaf501be",
   "metadata": {},
   "outputs": [],
   "source": [
    "img[top:top+7, left: left+15] = [255, 192, 203]"
   ]
  },
  {
   "cell_type": "code",
   "execution_count": null,
   "id": "22996dc4-9cd0-46aa-b06e-427a681a7bab",
   "metadata": {},
   "outputs": [],
   "source": [
    "imshow(img)"
   ]
  }
 ],
 "metadata": {
  "kernelspec": {
   "display_name": "Python 3 (ipykernel)",
   "language": "python",
   "name": "python3"
  },
  "language_info": {
   "codemirror_mode": {
    "name": "ipython",
    "version": 3
   },
   "file_extension": ".py",
   "mimetype": "text/x-python",
   "name": "python",
   "nbconvert_exporter": "python",
   "pygments_lexer": "ipython3"
  }
 },
 "nbformat": 4,
 "nbformat_minor": 5
}
